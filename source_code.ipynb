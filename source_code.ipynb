{
 "cells": [
  {
   "cell_type": "markdown",
   "metadata": {},
   "source": [
    "# Importing libraries and reading in file"
   ]
  },
  {
   "cell_type": "code",
   "execution_count": 5,
   "metadata": {},
   "outputs": [
    {
     "name": "stdout",
     "output_type": "stream",
     "text": [
      "Collecting pyspark\n",
      "  Using cached https://files.pythonhosted.org/packages/f0/26/198fc8c0b98580f617cb03cb298c6056587b8f0447e20fa40c5b634ced77/pyspark-3.0.1.tar.gz\n",
      "Collecting py4j==0.10.9 (from pyspark)\n",
      "  Using cached https://files.pythonhosted.org/packages/9e/b6/6a4fb90cd235dc8e265a6a2067f2a2c99f0d91787f06aca4bcf7c23f3f80/py4j-0.10.9-py2.py3-none-any.whl\n",
      "Building wheels for collected packages: pyspark\n",
      "  Running setup.py bdist_wheel for pyspark: started\n",
      "  Running setup.py bdist_wheel for pyspark: finished with status 'done'\n",
      "  Stored in directory: C:\\Users\\Muharramsarwan\\AppData\\Local\\pip\\Cache\\wheels\\5e\\bd\\07\\031766ca628adec8435bb40f0bd83bb676ce65ff4007f8e73f\n",
      "Successfully built pyspark\n",
      "Installing collected packages: py4j, pyspark\n",
      "Successfully installed py4j-0.10.9 pyspark-3.0.1\n"
     ]
    }
   ],
   "source": [
    "!pip install pyspark"
   ]
  },
  {
   "cell_type": "code",
   "execution_count": 1,
   "metadata": {},
   "outputs": [
    {
     "data": {
      "text/html": [
       "<div>\n",
       "<style scoped>\n",
       "    .dataframe tbody tr th:only-of-type {\n",
       "        vertical-align: middle;\n",
       "    }\n",
       "\n",
       "    .dataframe tbody tr th {\n",
       "        vertical-align: top;\n",
       "    }\n",
       "\n",
       "    .dataframe thead th {\n",
       "        text-align: right;\n",
       "    }\n",
       "</style>\n",
       "<table border=\"1\" class=\"dataframe\">\n",
       "  <thead>\n",
       "    <tr style=\"text-align: right;\">\n",
       "      <th></th>\n",
       "      <th>label</th>\n",
       "      <th>count</th>\n",
       "    </tr>\n",
       "  </thead>\n",
       "  <tbody>\n",
       "    <tr>\n",
       "      <th>0</th>\n",
       "      <td>1</td>\n",
       "      <td>56937</td>\n",
       "    </tr>\n",
       "    <tr>\n",
       "      <th>1</th>\n",
       "      <td>0</td>\n",
       "      <td>1000000</td>\n",
       "    </tr>\n",
       "  </tbody>\n",
       "</table>\n",
       "</div>"
      ],
      "text/plain": [
       "   label    count\n",
       "0      1    56937\n",
       "1      0  1000000"
      ]
     },
     "execution_count": 1,
     "metadata": {},
     "output_type": "execute_result"
    }
   ],
   "source": [
    "from pyspark.ml.feature import Tokenizer, RegexTokenizer\n",
    "from pyspark.ml.classification import LinearSVC\n",
    "from pyspark.sql.functions import col, udf\n",
    "from pyspark.sql.types import IntegerType\n",
    "from pyspark.ml.feature import NGram,HashingTF, IDF\n",
    "from pyspark.ml.feature import StandardScaler\n",
    "from pyspark.sql.functions import lit\n",
    "from pyspark.mllib.feature import StandardScaler, StandardScalerModel\n",
    "from pyspark.mllib.linalg import Vectors\n",
    "from pyspark.mllib.util import MLUtils\n",
    "from pyspark.ml import Pipeline\n",
    "from pyspark.sql import Row\n",
    "from pyspark.sql import SparkSession\n",
    "from pyspark.ml.feature import RegexTokenizer, StopWordsRemover, CountVectorizer\n",
    "import matplotlib.pyplot as plt\n",
    "import numpy as np\n",
    "import pandas as pd\n",
    "from pyspark.ml.classification import RandomForestClassifier\n",
    "from pyspark.ml.evaluation import RegressionEvaluator\n",
    "from pyspark.ml.evaluation import BinaryClassificationEvaluator\n",
    "from pyspark.ml.evaluation import MulticlassClassificationEvaluator\n",
    "from pyspark.ml.tuning import ParamGridBuilder, CrossValidator\n",
    "from pyspark.ml.feature import StringIndexer\n",
    "from pyspark.ml.feature import Word2Vec\n",
    "from sklearn.metrics import confusion_matrix\n",
    "from pyspark.mllib.evaluation import MulticlassMetrics\n",
    "from pyspark import SparkContext\n",
    "\n",
    "if __name__ == \"__main__\":\n",
    "    spark = SparkSession\\\n",
    "        .builder\\\n",
    "        .appName(\"Detecting-Malicious-URL App\")\\\n",
    "        .getOrCreate()\n",
    "\n",
    "#Reading in the URL file and storing into dataframe\n",
    "data_df = spark.read.csv(path='dataset.csv',\n",
    "                        sep=',',\n",
    "                        encoding='UTF-8',\n",
    "                        comment=None,\n",
    "                        header=True, \n",
    "                        inferSchema=True)\n",
    "\n",
    "data_df.groupby('label').count().toPandas()"
   ]
  },
  {
   "cell_type": "markdown",
   "metadata": {},
   "source": [
    "# Under Sample Unbalanced Datasets"
   ]
  },
  {
   "cell_type": "code",
   "execution_count": 2,
   "metadata": {},
   "outputs": [
    {
     "data": {
      "text/html": [
       "<div>\n",
       "<style scoped>\n",
       "    .dataframe tbody tr th:only-of-type {\n",
       "        vertical-align: middle;\n",
       "    }\n",
       "\n",
       "    .dataframe tbody tr th {\n",
       "        vertical-align: top;\n",
       "    }\n",
       "\n",
       "    .dataframe thead th {\n",
       "        text-align: right;\n",
       "    }\n",
       "</style>\n",
       "<table border=\"1\" class=\"dataframe\">\n",
       "  <thead>\n",
       "    <tr style=\"text-align: right;\">\n",
       "      <th></th>\n",
       "      <th>label</th>\n",
       "      <th>count</th>\n",
       "    </tr>\n",
       "  </thead>\n",
       "  <tbody>\n",
       "    <tr>\n",
       "      <th>0</th>\n",
       "      <td>1</td>\n",
       "      <td>56937</td>\n",
       "    </tr>\n",
       "    <tr>\n",
       "      <th>1</th>\n",
       "      <td>0</td>\n",
       "      <td>53688</td>\n",
       "    </tr>\n",
       "  </tbody>\n",
       "</table>\n",
       "</div>"
      ],
      "text/plain": [
       "   label  count\n",
       "0      1  56937\n",
       "1      0  53688"
      ]
     },
     "execution_count": 2,
     "metadata": {},
     "output_type": "execute_result"
    }
   ],
   "source": [
    "\n",
    "malicious = data_df.filter(\"label = 1\")\n",
    "bening = data_df.filter(\"label = 0\")\n",
    "\n",
    "#malicious.count()\n",
    "#bening.count()\n",
    "\n",
    "sampleRatio = malicious.count() / data_df.count()\n",
    "#print(\"sampleRatio: %g\" %sampleRatio)\n",
    "sample_bening = bening.sample(False, sampleRatio)\n",
    "\n",
    "sampled = malicious.unionAll(sample_bening)\n",
    "\n",
    "sampled.groupby('label').count().toPandas()\n",
    "\n"
   ]
  },
  {
   "cell_type": "markdown",
   "metadata": {},
   "source": [
    "# Data Ingestion and Vectorization"
   ]
  },
  {
   "cell_type": "code",
   "execution_count": 3,
   "metadata": {},
   "outputs": [
    {
     "name": "stdout",
     "output_type": "stream",
     "text": [
      "\n",
      "Training Dataset Count: 88354\n",
      "Test Dataset Count: 22271\n",
      "Total Dataset Count: 110625\n",
      "+--------------------+-----+--------------------+--------------------+--------------------+\n",
      "|                 url|label|               Words|         rawfeatures|            features|\n",
      "+--------------------+-----+--------------------+--------------------+--------------------+\n",
      "|http://br-ofertas...|    1|[http, br, oferta...|(6982,[0,1,2,3,18...|(6982,[0,1,2,3,18...|\n",
      "|https://semana-da...|    1|[https, semana, d...|(6982,[0,3,6,18,2...|(6982,[0,3,6,18,2...|\n",
      "|https://scrid-app...|    1|[https, scrid, ap...|(6982,[0,6,791],[...|(6982,[0,6,791],[...|\n",
      "|http://my-softban...|    1|[http, my, softba...|(6982,[0,1,29,163...|(6982,[0,1,29,163...|\n",
      "|http://www.my-sof...|    1|[http, www, my, s...|(6982,[0,1,4,29,1...|(6982,[0,1,4,29,1...|\n",
      "+--------------------+-----+--------------------+--------------------+--------------------+\n",
      "only showing top 5 rows\n",
      "\n"
     ]
    }
   ],
   "source": [
    "#Tokennize the TrainData - sparse the URL string into words\n",
    "regexTokenizer = RegexTokenizer(inputCol=\"url\", outputCol=\"Words\", pattern=\"\\\\W\")\n",
    "\n",
    "#CountVectorizer converts the the words into feature vectors - Thi is used as it gives better results\n",
    "countVectors = CountVectorizer(inputCol=regexTokenizer.getOutputCol(), outputCol=\"rawfeatures\", vocabSize=10000, minDF=5)\n",
    "\n",
    "#\n",
    "idf = IDF(inputCol=countVectors.getOutputCol(), outputCol=\"features\") \n",
    "\n",
    "#create the pipline \n",
    "pipeline = Pipeline(stages=[regexTokenizer, countVectors, idf ])\n",
    "\n",
    "\n",
    "# Fit the pipeline to training documents.\n",
    "# Pass 'sampled' in the param to set Balanced datasets\n",
    "pipelineFit = pipeline.fit(sampled)\n",
    "\n",
    "#Transform the pipeline to dataset\n",
    "# Pass 'sampled' in the param to set Balanced datasets\n",
    "dataset = pipelineFit.transform(sampled)\n",
    "\n",
    "#randomly split the dataset to traning and testing 80%, 20% respectively\n",
    "(trainingData, testData) = dataset.randomSplit([0.8, 0.2], seed = 100)\n",
    "print(\"\\nTraining Dataset Count: \" + str(trainingData.count()))\n",
    "print(\"Test Dataset Count: \" + str(testData.count()))\n",
    "print(\"Total Dataset Count: \" + str(dataset.count()))\n",
    "\n",
    "dataset.show(5)"
   ]
  },
  {
   "cell_type": "code",
   "execution_count": 4,
   "metadata": {},
   "outputs": [
    {
     "data": {
      "text/html": [
       "<div>\n",
       "<style scoped>\n",
       "    .dataframe tbody tr th:only-of-type {\n",
       "        vertical-align: middle;\n",
       "    }\n",
       "\n",
       "    .dataframe tbody tr th {\n",
       "        vertical-align: top;\n",
       "    }\n",
       "\n",
       "    .dataframe thead th {\n",
       "        text-align: right;\n",
       "    }\n",
       "</style>\n",
       "<table border=\"1\" class=\"dataframe\">\n",
       "  <thead>\n",
       "    <tr style=\"text-align: right;\">\n",
       "      <th></th>\n",
       "      <th>label</th>\n",
       "      <th>count</th>\n",
       "    </tr>\n",
       "  </thead>\n",
       "  <tbody>\n",
       "    <tr>\n",
       "      <th>0</th>\n",
       "      <td>1</td>\n",
       "      <td>45609</td>\n",
       "    </tr>\n",
       "    <tr>\n",
       "      <th>1</th>\n",
       "      <td>0</td>\n",
       "      <td>42745</td>\n",
       "    </tr>\n",
       "  </tbody>\n",
       "</table>\n",
       "</div>"
      ],
      "text/plain": [
       "   label  count\n",
       "0      1  45609\n",
       "1      0  42745"
      ]
     },
     "execution_count": 4,
     "metadata": {},
     "output_type": "execute_result"
    }
   ],
   "source": [
    "trainingData.groupby('label').count().toPandas()"
   ]
  },
  {
   "cell_type": "code",
   "execution_count": 5,
   "metadata": {},
   "outputs": [
    {
     "data": {
      "text/html": [
       "<div>\n",
       "<style scoped>\n",
       "    .dataframe tbody tr th:only-of-type {\n",
       "        vertical-align: middle;\n",
       "    }\n",
       "\n",
       "    .dataframe tbody tr th {\n",
       "        vertical-align: top;\n",
       "    }\n",
       "\n",
       "    .dataframe thead th {\n",
       "        text-align: right;\n",
       "    }\n",
       "</style>\n",
       "<table border=\"1\" class=\"dataframe\">\n",
       "  <thead>\n",
       "    <tr style=\"text-align: right;\">\n",
       "      <th></th>\n",
       "      <th>label</th>\n",
       "      <th>count</th>\n",
       "    </tr>\n",
       "  </thead>\n",
       "  <tbody>\n",
       "    <tr>\n",
       "      <th>0</th>\n",
       "      <td>1</td>\n",
       "      <td>11328</td>\n",
       "    </tr>\n",
       "    <tr>\n",
       "      <th>1</th>\n",
       "      <td>0</td>\n",
       "      <td>10943</td>\n",
       "    </tr>\n",
       "  </tbody>\n",
       "</table>\n",
       "</div>"
      ],
      "text/plain": [
       "   label  count\n",
       "0      1  11328\n",
       "1      0  10943"
      ]
     },
     "execution_count": 5,
     "metadata": {},
     "output_type": "execute_result"
    }
   ],
   "source": [
    "testData.groupby('label').count().toPandas()"
   ]
  },
  {
   "cell_type": "markdown",
   "metadata": {},
   "source": [
    "# Linear Support Vector Machine"
   ]
  },
  {
   "cell_type": "code",
   "execution_count": 6,
   "metadata": {},
   "outputs": [
    {
     "name": "stdout",
     "output_type": "stream",
     "text": [
      "Precision: 97.5682\n",
      "Recall: 99.7259\n",
      "f1-Score: 98.6441\n",
      "Total: 22271\n",
      "\n",
      "Accuracy: 98.644\n"
     ]
    },
    {
     "data": {
      "image/png": "[encoded data removed]",
      "text/plain": [
       "<Figure size 432x288 with 1 Axes>"
      ]
     },
     "metadata": {
      "needs_background": "light"
     },
     "output_type": "display_data"
    }
   ],
   "source": [
    "#==============[ Linear Support Vector Machine ]=====================\n",
    "\n",
    "for i in range(1, 2):\n",
    "    \n",
    "    lsvc = LinearSVC(maxIter=10, regParam=0.3)\n",
    "\n",
    "    # Fit the model\n",
    "    lsvcModel = lsvc.fit(trainingData)\n",
    "\n",
    "    predictions = lsvcModel.transform(testData)\n",
    "\n",
    "    # Select (prediction, true label) and compute test error\n",
    "#     evaluator = RegressionEvaluator(\n",
    "#         labelCol=\"label\", predictionCol=\"prediction\", metricName=\"rmse\")\n",
    "#     rmse = evaluator.evaluate(predictions)\n",
    "#     print(\"Root Mean Squared Error (RMSE) on test data = %g\" % rmse)\n",
    "\n",
    "    svm_evaluatorrecall = MulticlassClassificationEvaluator(labelCol=\"label\", predictionCol=\"prediction\", metricName=\"recallByLabel\")\n",
    "    svm_recall = svm_evaluatorrecall.evaluate(predictions)\n",
    "\n",
    "    svm_evaluatorprecision = MulticlassClassificationEvaluator(labelCol=\"label\", predictionCol=\"prediction\", metricName=\"precisionByLabel\")\n",
    "    svm_precision = svm_evaluatorprecision.evaluate(predictions)\n",
    "\n",
    "    svm_evaluatorf1 = MulticlassClassificationEvaluator(labelCol=\"label\", predictionCol=\"prediction\", metricName=\"f1\")\n",
    "    svm_f1 = svm_evaluatorf1.evaluate(predictions)\n",
    "\n",
    "    svm_evaluatoraccurasy = MulticlassClassificationEvaluator(\n",
    "        labelCol=\"label\", predictionCol=\"prediction\", metricName=\"accuracy\")\n",
    "    svm_accuracy = svm_evaluatoraccurasy.evaluate(predictions)\n",
    "\n",
    "    print(\"Precision: %g\" % (svm_precision*100))\n",
    "    print(\"Recall: %g\" % (svm_recall*100))\n",
    "    print(\"f1-Score: %g\" % (svm_f1*100))\n",
    "    print(\"Total: %g\" % (predictions.count()))\n",
    "    print(\"\\nAccuracy: %g\" % (svm_accuracy*100))\n",
    "    \n",
    "    #==================[ Confusing Matrix Calculation and Plotting ]\n",
    "    lsvm_predictions = lsvcModel.transform(testData)\n",
    "\n",
    "\n",
    "    y_actu = lsvm_predictions.select(\"label\").toPandas()\n",
    "    y_pred = lsvm_predictions.select(\"prediction\").toPandas()\n",
    "\n",
    "    cm = confusion_matrix(y_actu, y_pred)\n",
    "\n",
    "    plt.clf()\n",
    "    plt.imshow(cm, interpolation='nearest', cmap=plt.cm.Wistia)\n",
    "    classNames = ['Negative','Positive']\n",
    "    plt.title('LINEAR SUPPORT VECTOR MACHINE')\n",
    "    plt.ylabel('Actual Values')\n",
    "    plt.xlabel('Predicted Values')\n",
    "    tick_marks = np.arange(len(classNames))\n",
    "    plt.xticks(tick_marks, classNames, rotation=45)\n",
    "    plt.yticks(tick_marks, classNames)\n",
    "\n",
    "    s = [['TN','FN'], ['FP', 'TP']]\n",
    "    for i in range(2):\n",
    "        for j in range(2):\n",
    "            plt.text(i,j, str(s[i][j])+\" = \"+str(cm[j][i]))\n",
    "    plt.show()"
   ]
  },
  {
   "cell_type": "markdown",
   "metadata": {},
   "source": [
    "# Random Forest"
   ]
  },
  {
   "cell_type": "code",
   "execution_count": 7,
   "metadata": {},
   "outputs": [
    {
     "name": "stdout",
     "output_type": "stream",
     "text": [
      "Precision: 99.9021\n",
      "Recall: 90.0865\n",
      "f1-Score: 94.9043\n",
      "Total: 22271\n",
      "\n",
      "Accuracy: 94.9127\n"
     ]
    },
    {
     "data": {
      "image/png": "[encoded data removed]",
      "text/plain": [
       "<Figure size 432x288 with 1 Axes>"
      ]
     },
     "metadata": {
      "needs_background": "light"
     },
     "output_type": "display_data"
    },
    {
     "name": "stdout",
     "output_type": "stream",
     "text": [
      "\n",
      "True Positives: 1123\n",
      "True Negative: 10\n",
      "False Positive: 10933\n",
      "False Negative: 10205\n",
      "Total: 22271\n",
      "\n",
      "Accuracy: 5.08733\n",
      "F-Score: 9.6048581\n",
      "Recall: 9.91349\n",
      "Precision: 9.31486\n"
     ]
    }
   ],
   "source": [
    "from pyspark.ml.feature import IndexToString, StringIndexer, VectorIndexer\n",
    "\n",
    "# Index labels, adding metadata to the label column.\n",
    "# Fit on whole dataset to include all labels in index.\n",
    "labelIndexer = StringIndexer(inputCol=\"label\", outputCol=\"indexedLabel\").fit(dataset)\n",
    "\n",
    "# Automatically identify categorical features, and index them.\n",
    "# Set maxCategories so features with > 4 distinct values are treated as continuous.\n",
    "featureIndexer =\\\n",
    "    VectorIndexer(inputCol=\"features\", outputCol=\"indexedFeatures\", maxCategories=4).fit(dataset)\n",
    "\n",
    "# Train a RandomForest model.\n",
    "rf = RandomForestClassifier(labelCol=\"indexedLabel\", featuresCol=\"indexedFeatures\", numTrees=10)\n",
    "\n",
    "# Convert indexed labels back to original labels.\n",
    "labelConverter = IndexToString(inputCol=\"prediction\", outputCol=\"predictedLabel\",\n",
    "                               labels=labelIndexer.labels)\n",
    "\n",
    "# Chain indexers and forest in a Pipeline\n",
    "rf_pipeline = Pipeline(stages=[labelIndexer, featureIndexer, rf, labelConverter])\n",
    "\n",
    "# Train model.  This also runs the indexers.\n",
    "rf_model = rf_pipeline.fit(trainingData)\n",
    "\n",
    "# Make predictions.\n",
    "rf_predictions = rf_model.transform(testData)\n",
    "\n",
    "rf_evaluatorrecall = MulticlassClassificationEvaluator(labelCol=\"indexedLabel\", predictionCol=\"prediction\", metricName=\"recallByLabel\")\n",
    "rf_recall = rf_evaluatorrecall.evaluate(rf_predictions)\n",
    "\n",
    "rf_evaluatorprecision = MulticlassClassificationEvaluator(labelCol=\"indexedLabel\", predictionCol=\"prediction\", metricName=\"precisionByLabel\")\n",
    "rf_precision = rf_evaluatorprecision.evaluate(rf_predictions)\n",
    "\n",
    "rf_evaluatorf1 = MulticlassClassificationEvaluator(labelCol=\"indexedLabel\", predictionCol=\"prediction\", metricName=\"f1\")\n",
    "rf_f1 = rf_evaluatorf1.evaluate(rf_predictions)\n",
    "\n",
    "rf_evaluatoraccurasy = MulticlassClassificationEvaluator(\n",
    "    labelCol=\"indexedLabel\", predictionCol=\"prediction\", metricName=\"accuracy\")\n",
    "rf_accuracy = rf_evaluatoraccurasy.evaluate(rf_predictions)\n",
    "\n",
    "print(\"Precision: %g\" % (rf_precision*100))\n",
    "print(\"Recall: %g\" % (rf_recall*100))\n",
    "print(\"f1-Score: %g\" % (rf_f1*100))\n",
    "print(\"Total: %g\" % (rf_predictions.count()))\n",
    "print(\"\\nAccuracy: %g\" % (rf_accuracy*100))\n",
    "\n",
    "#==================[ Confusing Matrix Calculation and Plotting ]\n",
    "rf_predictionss = rf_model.transform(testData)\n",
    "\n",
    "\n",
    "y_actual = rf_predictionss.select(\"label\").toPandas()\n",
    "y_predicted = rf_predictionss.select(\"prediction\").toPandas()\n",
    "\n",
    "rf_cm = confusion_matrix(y_actual, y_predicted)\n",
    "\n",
    "plt.clf()\n",
    "plt.imshow(rf_cm, interpolation='nearest', cmap=plt.cm.Wistia)\n",
    "classNames = ['Negative','Positive']\n",
    "plt.title('RANDOM FOREST')\n",
    "plt.ylabel('Actual Values')\n",
    "plt.xlabel('Predicted Values')\n",
    "tick_marks = np.arange(len(classNames))\n",
    "plt.xticks(tick_marks, classNames, rotation=45)\n",
    "plt.yticks(tick_marks, classNames)\n",
    "\n",
    "rf_s = [['TN','FN'], ['FP', 'TP']]\n",
    "for i in range(2):\n",
    "    for j in range(2):\n",
    "        plt.text(i,j, str(rf_s[i][j])+\" = \"+str(rf_cm[j][i]))\n",
    "plt.show()\n",
    "\n",
    "df = rf_predictions.select('prediction', 'label')\n",
    "\n",
    "tp = df[(df.label == 1) & (df.prediction == 1)].count()\n",
    "tn = df[(df.label == 0) & (df.prediction == 0)].count()\n",
    "fp = df[(df.label == 0) & (df.prediction == 1)].count()\n",
    "fn = df[(df.label == 1) & (df.prediction == 0)].count()\n",
    "\n",
    "print(\"\\nTrue Positives: %g\" % tp)\n",
    "print(\"True Negative: %g\" % tn)\n",
    "print(\"False Positive: %g\" % fp)\n",
    "print(\"False Negative: %g\" % fn)\n",
    "\n",
    "print(\"Total: %g\" % (df.count()))\n",
    "\n",
    "r = float(tp)/(tp + fn)\n",
    "p = float(tp) / (tp + fp)\n",
    "a = float(tp + tn) / (tp + fp + tn + fn)\n",
    "f1 = float(p*r)/(p+r) * 2\n",
    "\n",
    "\n",
    "print(\"\\nAccuracy: %g\" %(a*100))\n",
    "print(\"F-Score: %f1\" %(f1*100))\n",
    "print(\"Recall: %g\" %(r*100))\n",
    "print(\"Precision: %g\" %(p*100))"
   ]
  },
  {
   "cell_type": "markdown",
   "metadata": {},
   "source": [
    "# Source : https://github.com/rlilojr/Detecting-Malicious-URL-Machine-Learning "
   ]
  }
 ],
 "metadata": {
  "kernelspec": {
   "display_name": "Python 3",
   "language": "python",
   "name": "python3"
  },
  "language_info": {
   "codemirror_mode": {
    "name": "ipython",
    "version": 3
   },
   "file_extension": ".py",
   "mimetype": "text/x-python",
   "name": "python",
   "nbconvert_exporter": "python",
   "pygments_lexer": "ipython3",
   "version": "3.7.1"
  }
 },
 "nbformat": 4,
 "nbformat_minor": 2
}
